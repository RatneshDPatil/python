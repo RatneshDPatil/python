{
 "cells": [
  {
   "cell_type": "code",
   "execution_count": 8,
   "id": "8e9a37e4-6dc1-4976-b3c2-c45c6fc824e0",
   "metadata": {},
   "outputs": [],
   "source": [
    "import pandas as pd\n",
    "import numpy as np\n",
    "import scipy.stats as ss\n",
    "import statsmodels.stats.weightstats as sw"
   ]
  },
  {
   "cell_type": "code",
   "execution_count": 11,
   "id": "c8b448c6-ef6c-4265-a11b-34cfaf8ded65",
   "metadata": {},
   "outputs": [
    {
     "name": "stdout",
     "output_type": "stream",
     "text": [
      "Reject Ho: Therefore The mean height of the school students is greater than 135 cms\n"
     ]
    }
   ],
   "source": [
    "alpha = 0.05  #same for all tests\n",
    "# One Sample t-test\n",
    "Ho = \"The mean height of the school students is 135 cms\"\n",
    "H1 = \"The mean height of the school students is greater than 135 cms\"\n",
    "x = ss.norm.rvs(160, 12, size=20) #generate r.s from normal distribution with mean=160 and sigma=12 n=20\n",
    "results = ss.ttest_1samp(x, 135, alternative='greater') #command for one sample t test\n",
    "results\n",
    "print('Reject Ho: Therefore', H1) if results.pvalue < alpha else print('Fail to reject Ho: Therefore', Ho)\n"
   ]
  },
  {
   "cell_type": "code",
   "execution_count": 14,
   "id": "cad3ebc9-ae26-4c04-a57f-8edc92846410",
   "metadata": {},
   "outputs": [
    {
     "data": {
      "text/plain": [
       "Ttest_indResult(statistic=2.597393856184532, pvalue=0.011354595185623295)"
      ]
     },
     "execution_count": 14,
     "metadata": {},
     "output_type": "execute_result"
    }
   ],
   "source": [
    "# Two Sample t-test (Independent)\n",
    "x = ss.norm.rvs(10, 2, 52)\n",
    "y = ss.norm.rvs(8, 2, 23)\n",
    "results = ss.ttest_ind(x, y, alternative=\"two-sided\", equal_var=True) #command for two sample t test for independence\n",
    "results"
   ]
  },
  {
   "cell_type": "code",
   "execution_count": 22,
   "id": "761141fa-6db5-42a9-83ee-ad08b2d34ba2",
   "metadata": {},
   "outputs": [
    {
     "name": "stdout",
     "output_type": "stream",
     "text": [
      "(-1.3824910747025987, 0.16682096908659672)\n"
     ]
    },
    {
     "data": {
      "text/plain": [
       "(71.94963258636669, 0.0)"
      ]
     },
     "execution_count": 22,
     "metadata": {},
     "output_type": "execute_result"
    }
   ],
   "source": [
    "# Z tests\n",
    "Treat1 = ss.norm.rvs(10, 1, 40)\n",
    "statistics, pvalue= sw.ztest(Treat1, value=10) #command for z test (first=statistics , second=pvalue)\n",
    "print((statistics, pvalue))"
   ]
  },
  {
   "cell_type": "code",
   "execution_count": 23,
   "id": "191743f7-9e7a-49de-b2fa-59cc3b75c917",
   "metadata": {},
   "outputs": [
    {
     "data": {
      "text/plain": [
       "ShapiroResult(statistic=0.9246260523796082, pvalue=0.12165777385234833)"
      ]
     },
     "execution_count": 23,
     "metadata": {},
     "output_type": "execute_result"
    }
   ],
   "source": [
    "# Shapiro Test\n",
    "x = ss.norm.rvs(160, 12, size=20)\n",
    "results = ss.shapiro(x) #command for shapiro test\n",
    "results"
   ]
  },
  {
   "cell_type": "code",
   "execution_count": 25,
   "id": "44865376-3479-491d-b755-a03a375862e2",
   "metadata": {},
   "outputs": [
    {
     "data": {
      "text/plain": [
       "AndersonResult(statistic=7.640968984875904, critical_values=array([0.895, 1.047, 1.302, 1.559, 1.9  ]), significance_level=array([15. , 10. ,  5. ,  2.5,  1. ]), fit_result=  params: FitParams(loc=0.0, scale=155.9363763457327)\n",
       " success: True\n",
       " message: '`anderson` successfully fit the distribution to the data.')"
      ]
     },
     "execution_count": 25,
     "metadata": {},
     "output_type": "execute_result"
    }
   ],
   "source": [
    "# Anderson Darling Test\n",
    "x = ss.norm.rvs(160, 12, size=20)\n",
    "results = ss.anderson(x, 'expon') # command for anderson darling test\n",
    "results"
   ]
  },
  {
   "cell_type": "code",
   "execution_count": 27,
   "id": "6474c7be-a080-4ee6-b32a-85ad01f11b2d",
   "metadata": {},
   "outputs": [
    {
     "name": "stdout",
     "output_type": "stream",
     "text": [
      "-0.14724210985351976 0.6848005512936794\n"
     ]
    }
   ],
   "source": [
    "# Correlation Test\n",
    "Data = pd.DataFrame(ss.multivariate_normal.rvs([10, 9], [[10, 2], [2, 4]], size=10))\n",
    "x = Data[0]\n",
    "y = Data[1]\n",
    "statistics, pvalue = ss.pearsonr(x, y) # command for correltn test\n",
    "print(statistics, pvalue)\n"
   ]
  },
  {
   "cell_type": "code",
   "execution_count": null,
   "id": "765e3244-57c6-415d-b23c-7571dda23bc0",
   "metadata": {},
   "outputs": [],
   "source": [
    "# One way Anova\n",
    "Treat1 = ss.norm.rvs(10, 1, 12)\n",
    "Treat2 = ss.expon.rvs(10, size=12)\n",
    "Treat3 = ss.norm.rvs(15, 1, 12)\n",
    "\n",
    "statistics, pvalue = ss.f_oneway(Treat1, Treat2, Treat3) #command for one way anova\n",
    "print(statistics, pvalue)"
   ]
  }
 ],
 "metadata": {
  "kernelspec": {
   "display_name": "Python 3 (ipykernel)",
   "language": "python",
   "name": "python3"
  },
  "language_info": {
   "codemirror_mode": {
    "name": "ipython",
    "version": 3
   },
   "file_extension": ".py",
   "mimetype": "text/x-python",
   "name": "python",
   "nbconvert_exporter": "python",
   "pygments_lexer": "ipython3",
   "version": "3.11.2"
  }
 },
 "nbformat": 4,
 "nbformat_minor": 5
}
