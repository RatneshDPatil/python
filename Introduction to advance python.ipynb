{
 "cells": [
  {
   "cell_type": "markdown",
   "id": "1f58a79f-db20-4ccf-ab49-b1fb1eebde5d",
   "metadata": {},
   "source": [
    "## Introduction to Advanced Python: **Objects and Classes**"
   ]
  },
  {
   "cell_type": "markdown",
   "id": "f3869121-6a65-4ecb-8835-118ac3436d68",
   "metadata": {},
   "source": [
    "  ### classes are blueprints for creating objects. Objects are instances of classes that have their own set of properties and can perform the behaviors defined in the class.\n",
    " Here's an analogy: A **class is like a blueprint for a house**. It defines the structure of the house, such as the number of rooms, the type of windows, and the materials used to build it. **An object is like a specific house that is built from the blueprint**. Each house has its own unique address, number of occupants, and furnishings."
   ]
  },
  {
   "cell_type": "markdown",
   "id": "7672d6f7-5438-402f-afa8-1c68610e0a36",
   "metadata": {},
   "source": [
    "| Aspect                 | Python Class                                       | Object (Instance)                                 |\n",
    "|------------------------|----------------------------------------------------|---------------------------------------------------|\n",
    "| **Definition**         | A class serves as a blueprint or template for creating objects. It defines attributes and methods. | An object is an instance of a class with actual values. It's like a specific copy of the class. |\n",
    "| **Purpose**            | Classes provide a means of bundling data and functionality together. | Objects represent actual instances with unique values. |\n",
    "| **Attributes**         | A class defines attributes (variables) that belong to it. | An object has its own set of attribute values. |\n",
    "| **Methods**            | A class can have methods (functions) for modifying its state. | An object can invoke these methods to perform actions. |\n",
    "| **Memory Allocation**  | When a class is defined, no memory is allocated. | Memory is allocated when an object is instantiated (created). |\n",
    "| **Example**            | Consider a class `Dog` to track different dog breeds and ages. | An object of breed \"Pug\" with age 7 years. |\n",
    "| **Analogy**            | Class is like a blueprint; object is the actual dog. | Class guides you; object carries specific information. |\n"
   ]
  },
  {
   "cell_type": "code",
   "execution_count": 1,
   "id": "9336eb62-e066-4b54-b644-5ff7b9e93a12",
   "metadata": {},
   "outputs": [
    {
     "name": "stdout",
     "output_type": "stream",
     "text": [
      "John Doe\n",
      "30\n",
      "Hello, my name is John Doe and I am 30 years old.\n"
     ]
    }
   ],
   "source": [
    "class MyClass:\n",
    "  # Attributes\n",
    "  name = \"John Doe\"\n",
    "  age = 30\n",
    "\n",
    "  # Methods\n",
    "  def greet(self):\n",
    "    print(f\"Hello, my name is {self.name} and I am {self.age} years old.\")\n",
    "\n",
    "# Create an object from the class\n",
    "my_object = MyClass()\n",
    "\n",
    "# Access the object's attributes\n",
    "print(my_object.name) \n",
    "print(my_object.age) \n",
    "\n",
    "# Call the object's method\n",
    "my_object.greet()  # Prints \"Hello, my name is John Doe and I am 30 years old.\""
   ]
  },
  {
   "cell_type": "markdown",
   "id": "0369c9db-2204-4b14-8fbc-59b11c0afac8",
   "metadata": {},
   "source": [
    "## Inheritance\n",
    "### Inheritance allows us to define a class that inherits **all the methods and properties** from another class.\n",
    "\n",
    "### Parent class is the class being inherited **from**, also called base class.\n",
    "\n",
    "### Child class is the class that **inherits from** another class, also called derived class."
   ]
  },
  {
   "cell_type": "code",
   "execution_count": 15,
   "id": "14dc48a7-22b3-43db-842f-3900b88ba518",
   "metadata": {},
   "outputs": [
    {
     "name": "stdout",
     "output_type": "stream",
     "text": [
      "Child 1 Function 1 Called\n",
      "Child 1 Function 3 Called\n"
     ]
    }
   ],
   "source": [
    "class prnt1:\n",
    "    def fun1(self):\n",
    "        print(\"Parent 1 Function 1 Called\")\n",
    "def fun2(self):\n",
    "    print(\"Parent 1 Function 2 Called\")\n",
    "def fun9(self):\n",
    "    print(\"Parent 1 Function 9 Called\")\n",
    "class chld1(prnt1):# Single Inheritance\n",
    "    def fun1(self):\n",
    "        print(\"Child 1 Function 1 Called\")\n",
    "    def fun2(self):\n",
    "        print(\"Child 1 Function 2 Called\")\n",
    "A=chld1()\n",
    "A.fun1()\n",
    "A.fun2()"
   ]
  },
  {
   "cell_type": "markdown",
   "id": "fac276bd-a4f1-4eae-88ba-de4c3ccedbde",
   "metadata": {},
   "source": [
    "### There are mainly **two types** of inheritance, a combination of which yields every other type.\n",
    "\n",
    "**1.  Single Inheritance**: One base class, inherited by one derived class.This is the\n",
    "simplest type of inheritance. Also, the minimal possible one.The derived class\n",
    "automatically invokes the base class constructor.\n",
    "\n",
    "**2. Multiple Inheritance**: Multiple base classes inherited by one derived class.The base\n",
    "class constructors are invoked in the order in which classes were derived.\n",
    "Derived Types of Inheritance\n",
    "\n",
    "Combining the above two forms of inheritance can lead to the following types of\n",
    "inheritance:\n",
    "\n",
    "**1. Hierarchical Inheritance:** One base class inherited by multiple derived classes. Each\n",
    "derived class will work independently, but objects share the class variables across\n",
    "different classes.\n",
    "\n",
    "**2. Multi-level Inheritance:** A derived class serving as a base class for another derived\n",
    "class.The base class constructors are invoked recursively in this case."
   ]
  },
  {
   "cell_type": "markdown",
   "id": "0536f5ed-dd37-4486-9c6f-e475dfbcc4ec",
   "metadata": {},
   "source": [
    "## Regular Expressions (Regex):\n",
    "Regular expressions (regex) are powerful tools for pattern matching and data extraction in text processing.\n",
    "Python’s re module provides functions to work with regular expressions.\n",
    "Key points:\n",
    "A regex is a pre-defined pattern used for matching text.\n",
    "It can detect the presence or absence of specific patterns.\n",
    "Useful for data mining, validation, and text manipulation.                        \n",
    "Example: Validating email addresses using regex.\n",
    "\n",
    "## Modules Development:\n",
    "Modularization breaks down software into independent modules.\n",
    "Effective modular design ensures:\n",
    "Separately solvable modules.\n",
    "Modifiable modules without affecting others.\n",
    "Modules compile individually.                                              \n",
    "Example: Creating a Python module with functions and classes.\n",
    "\n",
    "## GUI Programming:\n",
    "Graphical User Interface (GUI) development creates visual interfaces for applications.\n",
    "Common Python GUI libraries:\n",
    "Tkinter: Fast and easy for creating GUI applications.\n",
    "JavaFX: For rich desktop applications.\n",
    "Swing: Part of Java’s AWT.\n",
    "C++ GUI Libraries: Qt, wxWidgets, FLTK.\n",
    "Key concepts:\n",
    "Widgets (e.g., buttons, labels, text fields).\n",
    "Layout management (pack, grid, place).\n",
    "Event handling.                                       \n",
    "Example: Creating a simple Python GUI using Tkinter"
   ]
  },
  {
   "cell_type": "code",
   "execution_count": 18,
   "id": "5a1ac4fc-d192-489a-ba54-c9e48bc01297",
   "metadata": {},
   "outputs": [],
   "source": [
    "import tkinter\n",
    "m = tkinter.Tk()\n",
    "'''\n",
    "widgets are added here\n",
    "'''\n",
    "m.mainloop()"
   ]
  },
  {
   "attachments": {
    "f321ffaf-d2a5-4a09-866c-b2f0056b3731.png": {
     "image/png": "[encoded data removed]"
    }
   },
   "cell_type": "markdown",
   "id": "73ebcab8-0a9a-4317-bc25-d28d9937c405",
   "metadata": {},
   "source": [
    "![image.png](attachment:f321ffaf-d2a5-4a09-866c-b2f0056b3731.png)"
   ]
  },
  {
   "cell_type": "code",
   "execution_count": 19,
   "id": "a713c2c1-928d-453e-9bfd-5bf5f71799f3",
   "metadata": {},
   "outputs": [],
   "source": [
    "from tkinter import *\n",
    "root = Tk()\n",
    "w = Label(root, text='Welcome')\n",
    "w.pack()\n",
    "root.mainloop()\n"
   ]
  },
  {
   "attachments": {
    "1c58c247-c58f-4f27-8d59-52ff38d56c84.png": {
     "image/png": "[encoded data removed]"
    }
   },
   "cell_type": "markdown",
   "id": "17791d58-9b22-4097-8942-a9c9a315f66b",
   "metadata": {},
   "source": [
    "![image.png](attachment:1c58c247-c58f-4f27-8d59-52ff38d56c84.png)"
   ]
  }
 ],
 "metadata": {
  "kernelspec": {
   "display_name": "Python 3 (ipykernel)",
   "language": "python",
   "name": "python3"
  },
  "language_info": {
   "codemirror_mode": {
    "name": "ipython",
    "version": 3
   },
   "file_extension": ".py",
   "mimetype": "text/x-python",
   "name": "python",
   "nbconvert_exporter": "python",
   "pygments_lexer": "ipython3",
   "version": "3.11.2"
  }
 },
 "nbformat": 4,
 "nbformat_minor": 5
}
